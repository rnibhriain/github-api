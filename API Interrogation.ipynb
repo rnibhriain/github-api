{
 "cells": [
  {
   "cell_type": "markdown",
   "metadata": {},
   "source": [
    "# SETUP"
   ]
  },
  {
   "cell_type": "code",
   "execution_count": 3,
   "metadata": {},
   "outputs": [],
   "source": [
    "import requests\n",
    "import datetime\n",
    "import dash\n",
    "from dash import dcc\n",
    "import dash_html_components as html\n",
    "from dash.dependencies import Input, Output\n",
    "import plotly.express as px\n",
    "import plotly.graph_objects as go\n",
    "import pandas as pd"
   ]
  },
  {
   "cell_type": "code",
   "execution_count": 9,
   "metadata": {},
   "outputs": [
    {
     "name": "stdout",
     "output_type": "stream",
     "text": [
      "Error fetching from API. 403\n"
     ]
    }
   ],
   "source": [
    "# You must enter this information to investigate a user\n",
    "user = 'rnibhriain'\n",
    "token = input(\"Input your access token: \")\n",
    "\n",
    "repos = requests.get(f'https://api.github.com/users/{user}/repos?simple=yes&per_page=100&page=1',headers={\"Authorization\": f\"{token}\",'User-Agent': 'request'})\n",
    "commits = []\n",
    "numberOfCommits = []\n",
    "if (repos.status_code == 200):\n",
    "    for x in repos.json():\n",
    "        if (x['language'] != None):\n",
    "            y = x['name']\n",
    "            current = requests.get(f'https://api.github.com/repos/{user}/{y}/commits?simple=yes&per_page=100&page=1',headers={\"Authorization\": f\"{token}\",'User-Agent': 'request'})\n",
    "            response_dict = current.json()\n",
    "            \n",
    "            if (current.status_code == 200):\n",
    "                commits.append(current)\n",
    "                numberOfCommits.append(len(current.json()))\n",
    "else:\n",
    "    print('Error fetching from API.', repos)"
   ]
  },
  {
   "cell_type": "code",
   "execution_count": 10,
   "metadata": {},
   "outputs": [],
   "source": [
    "def get_productive_days (user, commits) :\n",
    "    days = []\n",
    "    times = []\n",
    "    users = []\n",
    "    for x in commits:\n",
    "        for i in x.json(): \n",
    "            if (i['commit']['author']['name'] == user):\n",
    "                date = i['commit']['author']['date'].replace(\"T\", \" \")\n",
    "                date = date.replace(\"Z\", \"\")\n",
    "                temp = pd.Timestamp(date)\n",
    "                dt = temp.day_name()\n",
    "                \n",
    "                days.append(dt)\n",
    "            \n",
    "                date = date.split(\" \")\n",
    "                temp = pd.Timestamp(date[1])\n",
    "                \n",
    "                hour = temp.hour\n",
    "                times.append(hour)\n",
    "                \n",
    "        \n",
    "                users.append(i['commit']['author']['name'])             \n",
    "    \n",
    "    count1 = [0, 0, 0, 0, 0, 0, 0, 0, 0, 0, 0, 0, 0, 0, 0, 0, 0, 0, 0, 0, 0, 0, 0, 0, 0]\n",
    "    counts = []\n",
    "    for i in times:\n",
    "        count1[i] = count1[i] + 1\n",
    "    \n",
    "    for i in times:\n",
    "        counts.append(count1[i])\n",
    "    df2 = pd.DataFrame({\n",
    "        \"Days\": days,\n",
    "        \"Times\": times,\n",
    "        \"User\" : users,\n",
    "        \"Count\": counts\n",
    "    })\n",
    "    return df2"
   ]
  },
  {
   "cell_type": "code",
   "execution_count": 11,
   "metadata": {},
   "outputs": [],
   "source": [
    "def languages_used(user, repos, numberOfCommits): \n",
    "    sizes = []\n",
    "    languages=[]\n",
    "    for i in repos.json():\n",
    "        print(i['language'])\n",
    "        if(i['language'] != None):\n",
    "            sizes.append(i['size'])\n",
    "            print(i['size'])\n",
    "            languages.append(i['language'])\n",
    "    lang = []    \n",
    "    sums = []\n",
    "    avg = []\n",
    "    counts = []\n",
    "    sums1 = []\n",
    "    avgCount = []\n",
    "    for i in languages:\n",
    "        exists = i in lang\n",
    "        if (exists ==  False and i != None):\n",
    "            lang.append(i)\n",
    "            sums.append(0)\n",
    "            sums1.append(0)\n",
    "            avg.append(0)\n",
    "            counts.append(0)\n",
    "            avgCount.append(0)\n",
    "            print(i)\n",
    "    \n",
    "    for i in range(len(lang)):\n",
    "        for x in range(len(languages)):\n",
    "            if (lang[i] == languages[x]):\n",
    "                sums[i] = sums[i] + sizes[x]\n",
    "                sums1[i] = sums1[i] + numberOfCommits[x]\n",
    "                counts[i] = counts[i] + 1\n",
    "                \n",
    "    for i in range(len(avg)):\n",
    "        avg[i] = (sums[i] / counts[i])\n",
    "        avgCount[i] = (sums1[i] / counts[i])\n",
    "        print(lang[i])\n",
    "        print(avg[i])\n",
    "        print(avgCount[i])\n",
    "            \n",
    "    df = pd.DataFrame({\n",
    "        \"Lang\": lang,\n",
    "        \"Size\": avg,\n",
    "        \"Commits\" : avgCount\n",
    "    })\n",
    "    return df"
   ]
  },
  {
   "cell_type": "markdown",
   "metadata": {},
   "source": [
    "# DASH "
   ]
  },
  {
   "cell_type": "code",
   "execution_count": 12,
   "metadata": {},
   "outputs": [
    {
     "ename": "TypeError",
     "evalue": "string indices must be integers",
     "output_type": "error",
     "traceback": [
      "\u001b[1;31m---------------------------------------------------------------------------\u001b[0m",
      "\u001b[1;31mTypeError\u001b[0m                                 Traceback (most recent call last)",
      "Cell \u001b[1;32mIn[12], line 2\u001b[0m\n\u001b[0;32m      1\u001b[0m df2 \u001b[39m=\u001b[39m get_productive_days(user, commits)\n\u001b[1;32m----> 2\u001b[0m df1 \u001b[39m=\u001b[39m languages_used(user, repos, numberOfCommits)\n\u001b[0;32m      3\u001b[0m \u001b[39mprint\u001b[39m(df1)\n\u001b[0;32m      4\u001b[0m df1 \u001b[39m=\u001b[39m df1\u001b[39m.\u001b[39msort_values(\u001b[39m\"\u001b[39m\u001b[39mSize\u001b[39m\u001b[39m\"\u001b[39m)\n",
      "Cell \u001b[1;32mIn[11], line 5\u001b[0m, in \u001b[0;36mlanguages_used\u001b[1;34m(user, repos, numberOfCommits)\u001b[0m\n\u001b[0;32m      3\u001b[0m languages\u001b[39m=\u001b[39m[]\n\u001b[0;32m      4\u001b[0m \u001b[39mfor\u001b[39;00m i \u001b[39min\u001b[39;00m repos\u001b[39m.\u001b[39mjson():\n\u001b[1;32m----> 5\u001b[0m     \u001b[39mprint\u001b[39m(i[\u001b[39m'\u001b[39;49m\u001b[39mlanguage\u001b[39;49m\u001b[39m'\u001b[39;49m])\n\u001b[0;32m      6\u001b[0m     \u001b[39mif\u001b[39;00m(i[\u001b[39m'\u001b[39m\u001b[39mlanguage\u001b[39m\u001b[39m'\u001b[39m] \u001b[39m!=\u001b[39m \u001b[39mNone\u001b[39;00m):\n\u001b[0;32m      7\u001b[0m         sizes\u001b[39m.\u001b[39mappend(i[\u001b[39m'\u001b[39m\u001b[39msize\u001b[39m\u001b[39m'\u001b[39m])\n",
      "\u001b[1;31mTypeError\u001b[0m: string indices must be integers"
     ]
    }
   ],
   "source": [
    "df2 = get_productive_days(user, commits)\n",
    "df1 = languages_used(user, repos, numberOfCommits)\n",
    "print(df1)\n",
    "df1 = df1.sort_values(\"Size\")\n",
    "print(df1)\n",
    "#set up app\n",
    "\n",
    "app = dash.Dash()\n",
    "# create a Dash layout\n",
    "\n",
    "app = dash.Dash(__name__)"
   ]
  },
  {
   "cell_type": "code",
   "execution_count": 13,
   "metadata": {},
   "outputs": [],
   "source": [
    "## Creating the Figures With the Data"
   ]
  },
  {
   "cell_type": "code",
   "execution_count": 14,
   "metadata": {},
   "outputs": [
    {
     "ename": "NameError",
     "evalue": "name 'df1' is not defined",
     "output_type": "error",
     "traceback": [
      "\u001b[1;31m---------------------------------------------------------------------------\u001b[0m",
      "\u001b[1;31mNameError\u001b[0m                                 Traceback (most recent call last)",
      "Cell \u001b[1;32mIn[14], line 1\u001b[0m\n\u001b[1;32m----> 1\u001b[0m fig \u001b[39m=\u001b[39m px\u001b[39m.\u001b[39mpie(df1, values\u001b[39m=\u001b[39m\u001b[39m'\u001b[39m\u001b[39mCommits\u001b[39m\u001b[39m'\u001b[39m, names\u001b[39m=\u001b[39m\u001b[39m'\u001b[39m\u001b[39mLang\u001b[39m\u001b[39m'\u001b[39m, title\u001b[39m=\u001b[39m\u001b[39mf\u001b[39m\u001b[39m'\u001b[39m\u001b[39mAverage Commits per Language for \u001b[39m\u001b[39m{\u001b[39;00muser\u001b[39m}\u001b[39;00m\u001b[39m'\u001b[39m,color_discrete_sequence\u001b[39m=\u001b[39mpx\u001b[39m.\u001b[39mcolors\u001b[39m.\u001b[39msequential\u001b[39m.\u001b[39mRdBu)\n\u001b[0;32m      3\u001b[0m fig\u001b[39m.\u001b[39mupdate_layout(\n\u001b[0;32m      4\u001b[0m     plot_bgcolor\u001b[39m=\u001b[39mcolors[\u001b[39m'\u001b[39m\u001b[39mbackground\u001b[39m\u001b[39m'\u001b[39m],\n\u001b[0;32m      5\u001b[0m     paper_bgcolor\u001b[39m=\u001b[39mcolors[\u001b[39m'\u001b[39m\u001b[39mbackground\u001b[39m\u001b[39m'\u001b[39m],\n\u001b[0;32m      6\u001b[0m     font_color\u001b[39m=\u001b[39mcolors[\u001b[39m'\u001b[39m\u001b[39mtext\u001b[39m\u001b[39m'\u001b[39m]\n\u001b[0;32m      7\u001b[0m )\n\u001b[0;32m      9\u001b[0m fig\u001b[39m.\u001b[39mshow()\n",
      "\u001b[1;31mNameError\u001b[0m: name 'df1' is not defined"
     ]
    }
   ],
   "source": [
    "fig = px.pie(df1, values='Commits', names='Lang', title=f'Average Commits per Language for {user}',color_discrete_sequence=px.colors.sequential.RdBu)\n",
    "\n",
    "fig.update_layout(\n",
    "    plot_bgcolor=colors['background'],\n",
    "    paper_bgcolor=colors['background'],\n",
    "    font_color=colors['text']\n",
    ")\n",
    "\n",
    "fig.show()"
   ]
  },
  {
   "cell_type": "markdown",
   "metadata": {},
   "source": [
    "### Size of Repo per Language"
   ]
  },
  {
   "cell_type": "code",
   "execution_count": null,
   "metadata": {},
   "outputs": [],
   "source": [
    "fig1 = px.pie(df1, values='Size', names='Lang', title=f'Average Size of Repo per Language for {user}', color_discrete_sequence=px.colors.sequential.RdBu)\n",
    "\n",
    "fig1.update_layout(\n",
    "    plot_bgcolor=colors['background'],\n",
    "    paper_bgcolor=colors['background'],\n",
    "    font_color=colors['text']\n",
    ")\n",
    "\n",
    "fig1.show()"
   ]
  },
  {
   "cell_type": "markdown",
   "metadata": {},
   "source": [
    "### Size vs Commits Analysis"
   ]
  },
  {
   "cell_type": "code",
   "execution_count": null,
   "metadata": {},
   "outputs": [],
   "source": [
    "figline = px.line(df1, x='Size', y='Commits')\n",
    "figline.update_traces(line=dict(color = 'white'))\n",
    "\n",
    "figscatt = px.scatter(df1, x='Size', y='Commits', title='Size vs Commits', color = 'Lang', size = 'Commits' )\n",
    "\n",
    "figscatt.update_layout(\n",
    "    plot_bgcolor=colors['background'],\n",
    "    paper_bgcolor=colors['background'],\n",
    "    font_color=colors['text']\n",
    ")\n",
    "\n",
    "fig2 = go.Figure(data=figline.data + figscatt.data)\n",
    "\n",
    "fig2.update_layout(\n",
    "    plot_bgcolor=colors['background'],\n",
    "    paper_bgcolor=colors['background'],\n",
    "    font_color=colors['text'],\n",
    "    title = f'Size vs Commits Graph for {user}'\n",
    ")\n",
    "\n",
    "fig2.show()"
   ]
  },
  {
   "cell_type": "markdown",
   "metadata": {},
   "source": [
    "### Productive Hours Graph Setup"
   ]
  },
  {
   "cell_type": "code",
   "execution_count": null,
   "metadata": {},
   "outputs": [],
   "source": [
    "fig3 = px.scatter(df2, x=\"Days\", y=\"Times\", color='Count', size='Count')\n",
    "\n",
    "fig3.update_xaxes(showgrid=False, categoryorder='array', categoryarray= ['Monday', 'Tuesday', 'Wednesday', 'Thursday', 'Friday', 'Saturday', 'Sunday'])\n",
    "\n",
    "fig3.update_yaxes(showgrid=False, tickvals=[0, 1, 2, 3, 4, 5, 6, 7, 8, 9, 10, 11, 12, 13, 14, 15, 16, 17, 18, 19, 20, 21, 22, 23, 24])\n",
    "\n",
    "fig3.update_layout(\n",
    "    plot_bgcolor=colors['background'],\n",
    "    paper_bgcolor=colors['background'],\n",
    "    font_color=colors['text'],\n",
    "    title = f'Commits Per Day for {user}'\n",
    ")\n"
   ]
  },
  {
   "cell_type": "code",
   "execution_count": null,
   "metadata": {},
   "outputs": [],
   "source": [
    "colors = {\n",
    "    'background': '#111111',\n",
    "    'text': '#7FDBFF'\n",
    "}\n",
    "\n",
    "app.layout = html.Div(style={'backgroundColor': colors['background']}, children=[\n",
    "    html.H1(\n",
    "        children='Github Metric Visualisation',\n",
    "        style={\n",
    "            'textAlign': 'center',\n",
    "            'color': colors['text']\n",
    "        }\n",
    "    ),\n",
    "    \n",
    "    html.H3(\n",
    "        children='Commits for a Language',\n",
    "        style={\n",
    "            'textAlign': 'center',\n",
    "            'color': colors['text']\n",
    "        }\n",
    "    ),\n",
    "    html.P(\n",
    "        children='This piechart shows the average commits to a repository per language',\n",
    "        style={\n",
    "            'textAlign': 'center',\n",
    "            'color': colors['text']\n",
    "        }\n",
    "    ),\n",
    "    dcc.Graph(\n",
    "        id='example-graph-1',\n",
    "        figure=fig\n",
    "    ),\n",
    "    html.H3(\n",
    "        children='Size for a Language',\n",
    "        style={\n",
    "            'textAlign': 'center',\n",
    "            'color': colors['text']\n",
    "        }\n",
    "    ),\n",
    "    html.P(\n",
    "        children='This piechart shows the average size of a repository per language',\n",
    "        style={\n",
    "            'textAlign': 'center',\n",
    "            'color': colors['text']\n",
    "        }\n",
    "    ),\n",
    "    dcc.Graph(\n",
    "        id='example-graph-2',\n",
    "        figure=fig1\n",
    "    ),\n",
    "    \n",
    "    html.H3(\n",
    "        children='Size vs Commits',\n",
    "        style={\n",
    "            'textAlign': 'center',\n",
    "            'color': colors['text']\n",
    "        }\n",
    "    ),\n",
    "    html.P(\n",
    "        children='This graph shows an analysis of the size of repositories vs the number of commits, this should give an indication of what languages the user codes in most often.',\n",
    "        style={\n",
    "            'textAlign': 'center',\n",
    "            'color': colors['text']\n",
    "        }\n",
    "    ),\n",
    "     html.P(\n",
    "        children='This would be expected to be linear as the size of the repository would indicate more commits but it is not as can be seen here.',\n",
    "        style={\n",
    "            'textAlign': 'center',\n",
    "            'color': colors['text']\n",
    "        }\n",
    "    ),\n",
    "    dcc.Graph(\n",
    "        id='example-graph-3',\n",
    "        figure=fig2\n",
    "    ),\n",
    "    html.H3(\n",
    "        children='Productivity Analysis',\n",
    "        style={\n",
    "            'textAlign': 'center',\n",
    "            'color': colors['text']\n",
    "        }\n",
    "    ),\n",
    "    html.P(\n",
    "        children='This graph shows what time of the day the user commits on each day of the week using up to 100 repositories for a user, and up to 100 commits for each repository',\n",
    "        style={\n",
    "            'textAlign': 'center',\n",
    "            'color': colors['text']\n",
    "        }\n",
    "    ),\n",
    "    html.P(\n",
    "        children='This will give an indicator of what hours the user is active and most productive.',\n",
    "        style={\n",
    "            'textAlign': 'center',\n",
    "            'color': colors['text']\n",
    "        }\n",
    "    ),\n",
    "    dcc.Graph(\n",
    "        id='example-graph-4',\n",
    "        figure=fig3\n",
    "    )\n",
    "])"
   ]
  },
  {
   "cell_type": "code",
   "execution_count": null,
   "metadata": {},
   "outputs": [],
   "source": [
    "#run server\n",
    "app.run_server()"
   ]
  },
  {
   "cell_type": "code",
   "execution_count": null,
   "metadata": {},
   "outputs": [],
   "source": []
  },
  {
   "cell_type": "code",
   "execution_count": null,
   "metadata": {},
   "outputs": [],
   "source": []
  },
  {
   "cell_type": "code",
   "execution_count": null,
   "metadata": {},
   "outputs": [],
   "source": []
  },
  {
   "cell_type": "code",
   "execution_count": null,
   "metadata": {},
   "outputs": [],
   "source": []
  },
  {
   "cell_type": "code",
   "execution_count": null,
   "metadata": {},
   "outputs": [],
   "source": []
  },
  {
   "cell_type": "code",
   "execution_count": null,
   "metadata": {},
   "outputs": [],
   "source": []
  }
 ],
 "metadata": {
  "kernelspec": {
   "display_name": "Python 3 (ipykernel)",
   "language": "python",
   "name": "python3"
  },
  "language_info": {
   "codemirror_mode": {
    "name": "ipython",
    "version": 3
   },
   "file_extension": ".py",
   "mimetype": "text/x-python",
   "name": "python",
   "nbconvert_exporter": "python",
   "pygments_lexer": "ipython3",
   "version": "3.9.7"
  }
 },
 "nbformat": 4,
 "nbformat_minor": 4
}
